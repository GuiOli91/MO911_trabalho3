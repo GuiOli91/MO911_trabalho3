{
 "cells": [
  {
   "cell_type": "markdown",
   "id": "65165950-9561-4f74-874c-392ea52d6e8e",
   "metadata": {},
   "source": [
    "## <center>Universidade Estadual de Campinas <br/>Instituto de Computação<br/><br/>Introdução às Metodologias para Elaboração de Projeto de Pesquisa (MO911)<br/><br/>Professor: Sandro Rigo<center/>"
   ]
  },
  {
   "cell_type": "markdown",
   "id": "912b0328-675e-42e4-be4e-931777cf3a2b",
   "metadata": {},
   "source": [
    "### Trabalho 3<br/><br/>Nome: Guilherme Monteiro Oliveira - 108318"
   ]
  },
  {
   "cell_type": "code",
   "execution_count": 1,
   "id": "73587bb5-cc70-4440-b09e-0afd55bf50cf",
   "metadata": {},
   "outputs": [],
   "source": [
    "import pandas as pd\n",
    "import numpy as np\n",
    "import matplotlib.pyplot as plt\n",
    "import scipy.stats as stats\n",
    "import seaborn as sns\n",
    "\n",
    "from math import sqrt\n",
    "\n",
    "\n",
    "%matplotlib inline"
   ]
  },
  {
   "cell_type": "code",
   "execution_count": 2,
   "id": "bc90d26f-5c60-4826-b4ab-8375adc794dd",
   "metadata": {},
   "outputs": [],
   "source": [
    "blood_pres = pd.read_csv('Data/bp.csv')"
   ]
  },
  {
   "cell_type": "code",
   "execution_count": 3,
   "id": "4869a140-e5dd-4566-9380-1b052d4b29ec",
   "metadata": {},
   "outputs": [],
   "source": [
    "measures =  pd.read_csv('Data/paired.csv')"
   ]
  },
  {
   "cell_type": "code",
   "execution_count": 4,
   "id": "279a7cd3-bc20-4fb7-8c6a-120d1c5b65a1",
   "metadata": {},
   "outputs": [
    {
     "data": {
      "text/html": [
       "<div>\n",
       "<style scoped>\n",
       "    .dataframe tbody tr th:only-of-type {\n",
       "        vertical-align: middle;\n",
       "    }\n",
       "\n",
       "    .dataframe tbody tr th {\n",
       "        vertical-align: top;\n",
       "    }\n",
       "\n",
       "    .dataframe thead th {\n",
       "        text-align: right;\n",
       "    }\n",
       "</style>\n",
       "<table border=\"1\" class=\"dataframe\">\n",
       "  <thead>\n",
       "    <tr style=\"text-align: right;\">\n",
       "      <th></th>\n",
       "      <th>bp</th>\n",
       "      <th>type</th>\n",
       "    </tr>\n",
       "  </thead>\n",
       "  <tbody>\n",
       "    <tr>\n",
       "      <th>0</th>\n",
       "      <td>68</td>\n",
       "      <td>No</td>\n",
       "    </tr>\n",
       "    <tr>\n",
       "      <th>1</th>\n",
       "      <td>70</td>\n",
       "      <td>Yes</td>\n",
       "    </tr>\n",
       "    <tr>\n",
       "      <th>2</th>\n",
       "      <td>82</td>\n",
       "      <td>No</td>\n",
       "    </tr>\n",
       "    <tr>\n",
       "      <th>3</th>\n",
       "      <td>76</td>\n",
       "      <td>No</td>\n",
       "    </tr>\n",
       "    <tr>\n",
       "      <th>4</th>\n",
       "      <td>60</td>\n",
       "      <td>No</td>\n",
       "    </tr>\n",
       "  </tbody>\n",
       "</table>\n",
       "</div>"
      ],
      "text/plain": [
       "   bp type\n",
       "0  68   No\n",
       "1  70  Yes\n",
       "2  82   No\n",
       "3  76   No\n",
       "4  60   No"
      ]
     },
     "execution_count": 4,
     "metadata": {},
     "output_type": "execute_result"
    }
   ],
   "source": [
    "blood_pres.head()"
   ]
  },
  {
   "cell_type": "code",
   "execution_count": 5,
   "id": "e4e4cb1a-b051-46ec-8d75-2539a7b71f65",
   "metadata": {},
   "outputs": [
    {
     "data": {
      "text/html": [
       "<div>\n",
       "<style scoped>\n",
       "    .dataframe tbody tr th:only-of-type {\n",
       "        vertical-align: middle;\n",
       "    }\n",
       "\n",
       "    .dataframe tbody tr th {\n",
       "        vertical-align: top;\n",
       "    }\n",
       "\n",
       "    .dataframe thead th {\n",
       "        text-align: right;\n",
       "    }\n",
       "</style>\n",
       "<table border=\"1\" class=\"dataframe\">\n",
       "  <thead>\n",
       "    <tr style=\"text-align: right;\">\n",
       "      <th></th>\n",
       "      <th>Clone</th>\n",
       "      <th>August</th>\n",
       "      <th>November</th>\n",
       "    </tr>\n",
       "  </thead>\n",
       "  <tbody>\n",
       "    <tr>\n",
       "      <th>0</th>\n",
       "      <td>Balsam_Spire</td>\n",
       "      <td>8.1</td>\n",
       "      <td>11.2</td>\n",
       "    </tr>\n",
       "    <tr>\n",
       "      <th>1</th>\n",
       "      <td>Beaupre</td>\n",
       "      <td>10.0</td>\n",
       "      <td>16.3</td>\n",
       "    </tr>\n",
       "    <tr>\n",
       "      <th>2</th>\n",
       "      <td>Hazendans</td>\n",
       "      <td>16.5</td>\n",
       "      <td>15.3</td>\n",
       "    </tr>\n",
       "    <tr>\n",
       "      <th>3</th>\n",
       "      <td>Hoogvorst</td>\n",
       "      <td>13.6</td>\n",
       "      <td>15.6</td>\n",
       "    </tr>\n",
       "    <tr>\n",
       "      <th>4</th>\n",
       "      <td>Raspalje</td>\n",
       "      <td>9.5</td>\n",
       "      <td>10.5</td>\n",
       "    </tr>\n",
       "  </tbody>\n",
       "</table>\n",
       "</div>"
      ],
      "text/plain": [
       "          Clone  August  November\n",
       "0  Balsam_Spire     8.1      11.2\n",
       "1       Beaupre    10.0      16.3\n",
       "2     Hazendans    16.5      15.3\n",
       "3     Hoogvorst    13.6      15.6\n",
       "4      Raspalje     9.5      10.5"
      ]
     },
     "execution_count": 5,
     "metadata": {},
     "output_type": "execute_result"
    }
   ],
   "source": [
    "measures.head()"
   ]
  },
  {
   "cell_type": "code",
   "execution_count": 6,
   "id": "8775b5e6-1725-43e6-8a96-46eecd125796",
   "metadata": {},
   "outputs": [
    {
     "data": {
      "text/plain": [
       "bp       int64\n",
       "type    object\n",
       "dtype: object"
      ]
     },
     "execution_count": 6,
     "metadata": {},
     "output_type": "execute_result"
    }
   ],
   "source": [
    "blood_pres.dtypes"
   ]
  },
  {
   "cell_type": "code",
   "execution_count": 7,
   "id": "b5e96a99-cf0e-438c-bc4d-a78727e13ceb",
   "metadata": {},
   "outputs": [
    {
     "data": {
      "text/plain": [
       "Clone        object\n",
       "August      float64\n",
       "November    float64\n",
       "dtype: object"
      ]
     },
     "execution_count": 7,
     "metadata": {},
     "output_type": "execute_result"
    }
   ],
   "source": [
    "measures.dtypes"
   ]
  },
  {
   "cell_type": "markdown",
   "id": "bc80c79e-0c76-43cb-b30c-5488b0166fb0",
   "metadata": {},
   "source": [
    "### Pressão Sanguínea"
   ]
  },
  {
   "cell_type": "code",
   "execution_count": 8,
   "id": "926e9954-2a37-49b0-91eb-b08be5e99891",
   "metadata": {},
   "outputs": [],
   "source": [
    "blood_press_yes = blood_pres[blood_pres['type'] == 'Yes']['bp']\n",
    "blood_press_no = blood_pres[blood_pres['type'] == 'No']['bp']"
   ]
  },
  {
   "cell_type": "code",
   "execution_count": 9,
   "id": "f7cc798e-e706-4dad-9cc6-1a13b6f3b675",
   "metadata": {},
   "outputs": [
    {
     "name": "stdout",
     "output_type": "stream",
     "text": [
      "stat=3.001, p=0.003\n",
      "Probably different distributions\n"
     ]
    }
   ],
   "source": [
    "stat, p = stats.ttest_ind(blood_press_yes, blood_press_no)\n",
    "print('stat=%.3f, p=%.3f' % (stat, p))\n",
    "if p > 0.05:\n",
    "\tprint('Probably the same distribution')\n",
    "else:\n",
    "\tprint('Probably different distributions')"
   ]
  },
  {
   "cell_type": "code",
   "execution_count": 10,
   "id": "61342c62-b9a2-4733-a8bd-7ce88f04c42b",
   "metadata": {},
   "outputs": [
    {
     "name": "stdout",
     "output_type": "stream",
     "text": [
      "stat=3.046, p=0.002\n",
      "Probably different distributions\n"
     ]
    }
   ],
   "source": [
    "\n",
    "stat, p = stats.ranksums(blood_press_yes, blood_press_no)\n",
    "print('stat=%.3f, p=%.3f' % (stat, p))\n",
    "if p > 0.05:\n",
    "\tprint('Probably the same distribution')\n",
    "else:\n",
    "\tprint('Probably different distributions')\n"
   ]
  },
  {
   "cell_type": "code",
   "execution_count": 11,
   "id": "d1c27f8b-163b-4459-bf0f-d9a1f82e244e",
   "metadata": {},
   "outputs": [],
   "source": [
    "bp_statistics = blood_pres.groupby(by = ['type']).agg(['mean', 'median', 'std'])"
   ]
  },
  {
   "cell_type": "code",
   "execution_count": 12,
   "id": "1c53b744-4223-40e7-958c-2e98c6073d72",
   "metadata": {},
   "outputs": [],
   "source": [
    "bp_statistics.loc['Dif'] = bp_statistics.loc['Yes'] - bp_statistics.loc['No']"
   ]
  },
  {
   "cell_type": "code",
   "execution_count": 13,
   "id": "b57986b8-64b2-4a8b-b7e5-2e9486d7a14b",
   "metadata": {},
   "outputs": [
    {
     "data": {
      "text/html": [
       "<div>\n",
       "<style scoped>\n",
       "    .dataframe tbody tr th:only-of-type {\n",
       "        vertical-align: middle;\n",
       "    }\n",
       "\n",
       "    .dataframe tbody tr th {\n",
       "        vertical-align: top;\n",
       "    }\n",
       "\n",
       "    .dataframe thead tr th {\n",
       "        text-align: left;\n",
       "    }\n",
       "\n",
       "    .dataframe thead tr:last-of-type th {\n",
       "        text-align: right;\n",
       "    }\n",
       "</style>\n",
       "<table border=\"1\" class=\"dataframe\">\n",
       "  <thead>\n",
       "    <tr>\n",
       "      <th></th>\n",
       "      <th colspan=\"3\" halign=\"left\">bp</th>\n",
       "    </tr>\n",
       "    <tr>\n",
       "      <th></th>\n",
       "      <th>mean</th>\n",
       "      <th>median</th>\n",
       "      <th>std</th>\n",
       "    </tr>\n",
       "    <tr>\n",
       "      <th>type</th>\n",
       "      <th></th>\n",
       "      <th></th>\n",
       "      <th></th>\n",
       "    </tr>\n",
       "  </thead>\n",
       "  <tbody>\n",
       "    <tr>\n",
       "      <th>No</th>\n",
       "      <td>69.545455</td>\n",
       "      <td>70.0</td>\n",
       "      <td>11.083557</td>\n",
       "    </tr>\n",
       "    <tr>\n",
       "      <th>Yes</th>\n",
       "      <td>74.588235</td>\n",
       "      <td>76.0</td>\n",
       "      <td>11.583874</td>\n",
       "    </tr>\n",
       "    <tr>\n",
       "      <th>Dif</th>\n",
       "      <td>5.042781</td>\n",
       "      <td>6.0</td>\n",
       "      <td>0.500316</td>\n",
       "    </tr>\n",
       "  </tbody>\n",
       "</table>\n",
       "</div>"
      ],
      "text/plain": [
       "             bp                  \n",
       "           mean median        std\n",
       "type                             \n",
       "No    69.545455   70.0  11.083557\n",
       "Yes   74.588235   76.0  11.583874\n",
       "Dif    5.042781    6.0   0.500316"
      ]
     },
     "execution_count": 13,
     "metadata": {},
     "output_type": "execute_result"
    }
   ],
   "source": [
    "bp_statistics"
   ]
  },
  {
   "cell_type": "code",
   "execution_count": 14,
   "id": "7e0ce85e-323a-477e-9f72-079946de9c97",
   "metadata": {},
   "outputs": [
    {
     "data": {
      "text/plain": [
       "1       70\n",
       "5       76\n",
       "9       78\n",
       "10      40\n",
       "12      60\n",
       "      ... \n",
       "187     62\n",
       "189    102\n",
       "192     48\n",
       "196     68\n",
       "199     62\n",
       "Name: bp, Length: 68, dtype: int64"
      ]
     },
     "execution_count": 14,
     "metadata": {},
     "output_type": "execute_result"
    }
   ],
   "source": [
    "blood_press_yes"
   ]
  },
  {
   "cell_type": "code",
   "execution_count": 15,
   "id": "4a627f6e-afb4-4756-9f69-2695763028f9",
   "metadata": {},
   "outputs": [
    {
     "data": {
      "image/png": "[encoded data removed]",
      "text/plain": [
       "<Figure size 640x480 with 1 Axes>"
      ]
     },
     "metadata": {},
     "output_type": "display_data"
    }
   ],
   "source": [
    "sns.set(style=\"darkgrid\")\n",
    "\n",
    "sns.histplot(data=blood_pres[blood_pres['type'] == 'No'], x=\"bp\", color=\"red\", label=\"Não Diabético\", kde=True)\n",
    "sns.histplot(data=blood_pres[blood_pres['type'] == 'Yes'], x=\"bp\", color=\"blue\", label=\"Diabético\", kde=True)\n",
    "\n",
    "plt.xlabel('Pressão Sanguínea')\n",
    "plt.ylabel('Contagem')\n",
    "plt.title('Pressão Sanguínea de grupos diabéticos')\n",
    "\n",
    "\n",
    "plt.legend() \n",
    "plt.show()\n",
    "\n"
   ]
  },
  {
   "cell_type": "markdown",
   "id": "44ab4232-6126-4aa9-8ee9-87a044025364",
   "metadata": {
    "tags": []
   },
   "source": [
    "### Paired"
   ]
  },
  {
   "cell_type": "code",
   "execution_count": 16,
   "id": "2eb793ab-3829-4748-abd8-fed8281c0515",
   "metadata": {},
   "outputs": [
    {
     "data": {
      "text/html": [
       "<div>\n",
       "<style scoped>\n",
       "    .dataframe tbody tr th:only-of-type {\n",
       "        vertical-align: middle;\n",
       "    }\n",
       "\n",
       "    .dataframe tbody tr th {\n",
       "        vertical-align: top;\n",
       "    }\n",
       "\n",
       "    .dataframe thead th {\n",
       "        text-align: right;\n",
       "    }\n",
       "</style>\n",
       "<table border=\"1\" class=\"dataframe\">\n",
       "  <thead>\n",
       "    <tr style=\"text-align: right;\">\n",
       "      <th></th>\n",
       "      <th>Clone</th>\n",
       "      <th>August</th>\n",
       "      <th>November</th>\n",
       "    </tr>\n",
       "  </thead>\n",
       "  <tbody>\n",
       "    <tr>\n",
       "      <th>0</th>\n",
       "      <td>Balsam_Spire</td>\n",
       "      <td>8.1</td>\n",
       "      <td>11.2</td>\n",
       "    </tr>\n",
       "    <tr>\n",
       "      <th>1</th>\n",
       "      <td>Beaupre</td>\n",
       "      <td>10.0</td>\n",
       "      <td>16.3</td>\n",
       "    </tr>\n",
       "    <tr>\n",
       "      <th>2</th>\n",
       "      <td>Hazendans</td>\n",
       "      <td>16.5</td>\n",
       "      <td>15.3</td>\n",
       "    </tr>\n",
       "    <tr>\n",
       "      <th>3</th>\n",
       "      <td>Hoogvorst</td>\n",
       "      <td>13.6</td>\n",
       "      <td>15.6</td>\n",
       "    </tr>\n",
       "    <tr>\n",
       "      <th>4</th>\n",
       "      <td>Raspalje</td>\n",
       "      <td>9.5</td>\n",
       "      <td>10.5</td>\n",
       "    </tr>\n",
       "    <tr>\n",
       "      <th>5</th>\n",
       "      <td>Unal</td>\n",
       "      <td>8.3</td>\n",
       "      <td>15.5</td>\n",
       "    </tr>\n",
       "    <tr>\n",
       "      <th>6</th>\n",
       "      <td>Columbia_River</td>\n",
       "      <td>18.3</td>\n",
       "      <td>12.7</td>\n",
       "    </tr>\n",
       "    <tr>\n",
       "      <th>7</th>\n",
       "      <td>Fritzi_Pauley</td>\n",
       "      <td>13.3</td>\n",
       "      <td>11.1</td>\n",
       "    </tr>\n",
       "    <tr>\n",
       "      <th>8</th>\n",
       "      <td>Trichobel</td>\n",
       "      <td>7.9</td>\n",
       "      <td>19.9</td>\n",
       "    </tr>\n",
       "    <tr>\n",
       "      <th>9</th>\n",
       "      <td>Gaver</td>\n",
       "      <td>8.1</td>\n",
       "      <td>20.4</td>\n",
       "    </tr>\n",
       "    <tr>\n",
       "      <th>10</th>\n",
       "      <td>Gibecq</td>\n",
       "      <td>8.9</td>\n",
       "      <td>14.2</td>\n",
       "    </tr>\n",
       "    <tr>\n",
       "      <th>11</th>\n",
       "      <td>Primo</td>\n",
       "      <td>12.6</td>\n",
       "      <td>12.7</td>\n",
       "    </tr>\n",
       "    <tr>\n",
       "      <th>12</th>\n",
       "      <td>Wolterson</td>\n",
       "      <td>13.4</td>\n",
       "      <td>36.8</td>\n",
       "    </tr>\n",
       "  </tbody>\n",
       "</table>\n",
       "</div>"
      ],
      "text/plain": [
       "             Clone  August  November\n",
       "0     Balsam_Spire     8.1      11.2\n",
       "1          Beaupre    10.0      16.3\n",
       "2        Hazendans    16.5      15.3\n",
       "3        Hoogvorst    13.6      15.6\n",
       "4         Raspalje     9.5      10.5\n",
       "5             Unal     8.3      15.5\n",
       "6   Columbia_River    18.3      12.7\n",
       "7    Fritzi_Pauley    13.3      11.1\n",
       "8        Trichobel     7.9      19.9\n",
       "9            Gaver     8.1      20.4\n",
       "10          Gibecq     8.9      14.2\n",
       "11           Primo    12.6      12.7\n",
       "12       Wolterson    13.4      36.8"
      ]
     },
     "execution_count": 16,
     "metadata": {},
     "output_type": "execute_result"
    }
   ],
   "source": [
    "measures"
   ]
  },
  {
   "cell_type": "code",
   "execution_count": 17,
   "id": "ba8144e8-fcd6-4b42-aa85-1d992362637f",
   "metadata": {},
   "outputs": [
    {
     "name": "stdout",
     "output_type": "stream",
     "text": [
      "stat=-2.309, p=0.040\n",
      "Probably different distributions\n"
     ]
    }
   ],
   "source": [
    "stat, p = stats.ttest_rel(measures.August, measures.November)\n",
    "\n",
    "print('stat=%.3f, p=%.3f' % (stat, p))\n",
    "if p > 0.05:\n",
    "\tprint('Probably the same distribution')\n",
    "else:\n",
    "\tprint('Probably different distributions')"
   ]
  },
  {
   "cell_type": "code",
   "execution_count": 18,
   "id": "11b1002a-4678-4685-a300-884a4e91d5e0",
   "metadata": {},
   "outputs": [
    {
     "name": "stdout",
     "output_type": "stream",
     "text": [
      "stat=16.000, p=0.040\n",
      "Probably different distributions\n"
     ]
    }
   ],
   "source": [
    "\n",
    "stat, p = stats.wilcoxon(measures.August, measures.November)\n",
    "print('stat=%.3f, p=%.3f' % (stat, p))\n",
    "if p > 0.05:\n",
    "\tprint('Probably the same distribution')\n",
    "else:\n",
    "\tprint('Probably different distributions')"
   ]
  },
  {
   "cell_type": "code",
   "execution_count": 19,
   "id": "d465a557-5b2d-4a5e-832d-0a2bc2f15a27",
   "metadata": {},
   "outputs": [
    {
     "data": {
      "image/png": "[encoded data removed]",
      "text/plain": [
       "<Figure size 640x480 with 1 Axes>"
      ]
     },
     "metadata": {},
     "output_type": "display_data"
    }
   ],
   "source": [
    "sns.set(style=\"darkgrid\")\n",
    "\n",
    "sns.histplot(data=measures, x=\"August\", color=\"red\", label=\"Agosto\", kde=True)\n",
    "sns.histplot(data=measures, x=\"November\", color=\"blue\", label=\"Novembro\", kde=True)\n",
    "\n",
    "plt.xlabel('Medição')\n",
    "plt.ylabel('Contagem')\n",
    "plt.title('Medições')\n",
    "\n",
    "\n",
    "plt.legend() \n",
    "plt.show()"
   ]
  },
  {
   "cell_type": "markdown",
   "id": "b3acfe88-43e6-41fc-98b9-be3e5912ae8c",
   "metadata": {},
   "source": [
    "### Bootstrap"
   ]
  },
  {
   "cell_type": "code",
   "execution_count": 20,
   "id": "c63f9fcd-f4c9-4700-a0e3-63e3dacbe254",
   "metadata": {},
   "outputs": [
    {
     "data": {
      "text/plain": [
       "(0      68\n",
       " 2      82\n",
       " 3      76\n",
       " 4      60\n",
       " 6      58\n",
       "        ..\n",
       " 193    68\n",
       " 194    74\n",
       " 195    58\n",
       " 197    70\n",
       " 198    58\n",
       " Name: bp, Length: 132, dtype: int64,)"
      ]
     },
     "execution_count": 20,
     "metadata": {},
     "output_type": "execute_result"
    }
   ],
   "source": [
    "(blood_press_no,)"
   ]
  },
  {
   "cell_type": "code",
   "execution_count": 21,
   "id": "cee5fa2a-90f9-495a-8c07-c7c6b576c1ff",
   "metadata": {},
   "outputs": [
    {
     "name": "stdout",
     "output_type": "stream",
     "text": [
      "O intevalo de confiância para diabéticos é de 71.79411764705883 até 77.26470588235294.\n"
     ]
    }
   ],
   "source": [
    "bootstrap_bp_yes = stats.bootstrap((blood_press_yes,), np.mean, confidence_level=0.95, random_state=123, method='BCa')\n",
    "\n",
    "print(\"O intevalo de confiância para diabéticos é de {0[0]} até {0[1]}.\".format(bootstrap_bp_yes.confidence_interval))"
   ]
  },
  {
   "cell_type": "code",
   "execution_count": 22,
   "id": "5a627c7e-0c8c-40f1-b050-1d128728a6cd",
   "metadata": {},
   "outputs": [
    {
     "name": "stdout",
     "output_type": "stream",
     "text": [
      "O intevalo de confiância para os não diabéticos é de 67.63636363636364 até 71.39812100396162.\n"
     ]
    }
   ],
   "source": [
    "bootstrap_bp_no = stats.bootstrap((blood_press_no,), np.mean, confidence_level=0.95, random_state=123, method='BCa')\n",
    "\n",
    "print(\"O intevalo de confiância para os não diabéticos é de {0[0]} até {0[1]}.\".format(bootstrap_bp_no.confidence_interval))"
   ]
  },
  {
   "cell_type": "code",
   "execution_count": 23,
   "id": "600484c8-f3cc-4021-a86d-21ccd0406f44",
   "metadata": {},
   "outputs": [
    {
     "data": {
      "image/png": "[encoded data removed]",
      "text/plain": [
       "<Figure size 640x480 with 1 Axes>"
      ]
     },
     "metadata": {},
     "output_type": "display_data"
    }
   ],
   "source": [
    "fig, ax = plt.subplots()\n",
    "\n",
    "ax.vlines(bootstrap_bp_yes.confidence_interval, 0, 1, colors = 'red')\n",
    "ax.vlines(bootstrap_bp_no.confidence_interval, 0, 1, colors = 'blue')\n",
    "\n",
    "plt.title('Intervalos de Confiância')\n",
    "plt.xlabel('Pressão Sanguínea')\n",
    "\n",
    "plt.show()"
   ]
  },
  {
   "cell_type": "markdown",
   "id": "1ac27f8d-0e89-48ec-962d-2e12089b9d60",
   "metadata": {},
   "source": [
    "### Cohen D"
   ]
  },
  {
   "cell_type": "code",
   "execution_count": 24,
   "id": "5df4003a-8c5e-4028-a1dd-64b59a4567e0",
   "metadata": {},
   "outputs": [],
   "source": [
    "# function to calculate Cohen's d for independent samples\n",
    "def cohend(d1, d2):\n",
    "\t# calculate the size of samples\n",
    "\tn1, n2 = len(d1), len(d2)\n",
    "\t# calculate the variance of the samples\n",
    "\ts1, s2 = np.var(d1, ddof=1), np.var(d2, ddof=1)\n",
    "\t# calculate the pooled standard deviation\n",
    "\ts = sqrt(((n1 - 1) * s1 + (n2 - 1) * s2) / (n1 + n2 - 2))\n",
    "\t# calculate the means of the samples\n",
    "\tu1, u2 = np.mean(d1), np.mean(d2)\n",
    "\t# calculate the effect size\n",
    "\treturn (u1 - u2) / s\n",
    "\n",
    "np.random.seed(1)\n"
   ]
  },
  {
   "cell_type": "code",
   "execution_count": 25,
   "id": "95171eef-925a-4591-8dc0-1f84b93c6251",
   "metadata": {},
   "outputs": [
    {
     "data": {
      "text/plain": [
       "-0.4480342648766951"
      ]
     },
     "execution_count": 25,
     "metadata": {},
     "output_type": "execute_result"
    }
   ],
   "source": [
    "cohend(blood_press_no, blood_press_yes)"
   ]
  },
  {
   "cell_type": "code",
   "execution_count": null,
   "id": "736d0aae-89d9-4d39-b32c-d3eff7edaa4b",
   "metadata": {},
   "outputs": [],
   "source": []
  }
 ],
 "metadata": {
  "kernelspec": {
   "display_name": "MO911",
   "language": "python",
   "name": "mo911"
  },
  "language_info": {
   "codemirror_mode": {
    "name": "ipython",
    "version": 3
   },
   "file_extension": ".py",
   "mimetype": "text/x-python",
   "name": "python",
   "nbconvert_exporter": "python",
   "pygments_lexer": "ipython3",
   "version": "3.10.6"
  }
 },
 "nbformat": 4,
 "nbformat_minor": 5
}
